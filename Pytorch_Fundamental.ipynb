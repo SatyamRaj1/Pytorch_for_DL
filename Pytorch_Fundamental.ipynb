{
  "nbformat": 4,
  "nbformat_minor": 0,
  "metadata": {
    "colab": {
      "provenance": [],
      "gpuType": "T4",
      "authorship_tag": "ABX9TyPUQyLfyy+I8kyGabW9sCJA",
      "include_colab_link": true
    },
    "kernelspec": {
      "name": "python3",
      "display_name": "Python 3"
    },
    "language_info": {
      "name": "python"
    },
    "accelerator": "GPU"
  },
  "cells": [
    {
      "cell_type": "markdown",
      "metadata": {
        "id": "view-in-github",
        "colab_type": "text"
      },
      "source": [
        "<a href=\"https://colab.research.google.com/github/SatyamRaj1/Pytorch_for_DL/blob/main/Pytorch_Fundamental.ipynb\" target=\"_parent\"><img src=\"https://colab.research.google.com/assets/colab-badge.svg\" alt=\"Open In Colab\"/></a>"
      ]
    },
    {
      "cell_type": "code",
      "execution_count": null,
      "metadata": {
        "colab": {
          "base_uri": "https://localhost:8080/"
        },
        "id": "PUuVvauh5ccz",
        "outputId": "74b764a4-7808-468a-8af9-402dc73e4d47"
      },
      "outputs": [
        {
          "output_type": "stream",
          "name": "stdout",
          "text": [
            "/bin/bash: line 1: nvidia-smi: command not found\n"
          ]
        }
      ],
      "source": [
        "!nvidia-smi"
      ]
    },
    {
      "cell_type": "code",
      "source": [
        "import torch\n",
        "import numpy as np\n",
        "import pandas as pd\n",
        "import matplotlib.pyplot as plt\n",
        "print(torch.__version__)"
      ],
      "metadata": {
        "colab": {
          "base_uri": "https://localhost:8080/"
        },
        "id": "gOSBSrc86mg1",
        "outputId": "28a35726-b6d3-440e-a622-c71bccb26081"
      },
      "execution_count": 2,
      "outputs": [
        {
          "output_type": "stream",
          "name": "stdout",
          "text": [
            "2.1.0+cu118\n"
          ]
        }
      ]
    },
    {
      "cell_type": "markdown",
      "source": [
        "# Introduction To Tensors\n",
        "\n",
        "#### Creating Tensors"
      ],
      "metadata": {
        "id": "3pMCHhDE7wjI"
      }
    },
    {
      "cell_type": "code",
      "source": [
        "# scalar\n",
        "scalar = torch.tensor(7)\n",
        "scalar"
      ],
      "metadata": {
        "colab": {
          "base_uri": "https://localhost:8080/"
        },
        "id": "yqQifauU6niF",
        "outputId": "58c6de00-a9aa-48f8-c3c7-461abe6de2ad"
      },
      "execution_count": null,
      "outputs": [
        {
          "output_type": "execute_result",
          "data": {
            "text/plain": [
              "tensor(7)"
            ]
          },
          "metadata": {},
          "execution_count": 3
        }
      ]
    },
    {
      "cell_type": "code",
      "source": [
        "scalar.ndim"
      ],
      "metadata": {
        "colab": {
          "base_uri": "https://localhost:8080/"
        },
        "id": "pXaLQKon8fy9",
        "outputId": "b9b80939-6870-4d15-b7ae-4aab9542dd13"
      },
      "execution_count": null,
      "outputs": [
        {
          "output_type": "execute_result",
          "data": {
            "text/plain": [
              "0"
            ]
          },
          "metadata": {},
          "execution_count": 4
        }
      ]
    },
    {
      "cell_type": "code",
      "source": [
        "#get tensor back as python int\n",
        "scalar.item()"
      ],
      "metadata": {
        "colab": {
          "base_uri": "https://localhost:8080/"
        },
        "id": "qPvE0OwD86Z5",
        "outputId": "aef1e4f8-406b-458b-f783-524d73701aec"
      },
      "execution_count": null,
      "outputs": [
        {
          "output_type": "execute_result",
          "data": {
            "text/plain": [
              "7"
            ]
          },
          "metadata": {},
          "execution_count": 5
        }
      ]
    },
    {
      "cell_type": "code",
      "source": [
        "#vector\n",
        "vector = torch.tensor([7, 7])\n",
        "vector"
      ],
      "metadata": {
        "colab": {
          "base_uri": "https://localhost:8080/"
        },
        "id": "dxQkTyeG9Ox1",
        "outputId": "3dfcbcce-915f-4ea0-9078-c6bd99120f98"
      },
      "execution_count": null,
      "outputs": [
        {
          "output_type": "execute_result",
          "data": {
            "text/plain": [
              "tensor([7, 7])"
            ]
          },
          "metadata": {},
          "execution_count": 6
        }
      ]
    },
    {
      "cell_type": "code",
      "source": [
        "vector.shape"
      ],
      "metadata": {
        "colab": {
          "base_uri": "https://localhost:8080/"
        },
        "id": "wgVxycm89Yv6",
        "outputId": "41d6ef2f-ca40-49fe-f6f4-7411abe53f6a"
      },
      "execution_count": null,
      "outputs": [
        {
          "output_type": "execute_result",
          "data": {
            "text/plain": [
              "torch.Size([2])"
            ]
          },
          "metadata": {},
          "execution_count": 7
        }
      ]
    },
    {
      "cell_type": "code",
      "source": [
        "# matrix\n",
        "MATRIX  = torch.tensor([[7, 8],\n",
        "                        [2, 3]])\n",
        "MATRIX"
      ],
      "metadata": {
        "colab": {
          "base_uri": "https://localhost:8080/"
        },
        "id": "Jlu_L_ow9qjU",
        "outputId": "111a622c-b65d-44d9-fd77-4bd5be21e9bc"
      },
      "execution_count": null,
      "outputs": [
        {
          "output_type": "execute_result",
          "data": {
            "text/plain": [
              "tensor([[7, 8],\n",
              "        [2, 3]])"
            ]
          },
          "metadata": {},
          "execution_count": 8
        }
      ]
    },
    {
      "cell_type": "code",
      "source": [
        "MATRIX.ndim"
      ],
      "metadata": {
        "colab": {
          "base_uri": "https://localhost:8080/"
        },
        "id": "Y09J8sG39uTR",
        "outputId": "0a5ea826-311d-4722-9116-9d420eb6c940"
      },
      "execution_count": null,
      "outputs": [
        {
          "output_type": "execute_result",
          "data": {
            "text/plain": [
              "2"
            ]
          },
          "metadata": {},
          "execution_count": 9
        }
      ]
    },
    {
      "cell_type": "code",
      "source": [
        "MATRIX[1]"
      ],
      "metadata": {
        "colab": {
          "base_uri": "https://localhost:8080/"
        },
        "id": "916BvysL9_ff",
        "outputId": "5f2e08af-f490-4633-9d43-b09abd031ea8"
      },
      "execution_count": null,
      "outputs": [
        {
          "output_type": "execute_result",
          "data": {
            "text/plain": [
              "tensor([2, 3])"
            ]
          },
          "metadata": {},
          "execution_count": 10
        }
      ]
    },
    {
      "cell_type": "code",
      "source": [
        "MATRIX.shape"
      ],
      "metadata": {
        "colab": {
          "base_uri": "https://localhost:8080/"
        },
        "id": "ALsKqPac-C7F",
        "outputId": "14f9c3c1-08bd-45a1-ec5f-027e3741b4fd"
      },
      "execution_count": null,
      "outputs": [
        {
          "output_type": "execute_result",
          "data": {
            "text/plain": [
              "torch.Size([2, 2])"
            ]
          },
          "metadata": {},
          "execution_count": 11
        }
      ]
    },
    {
      "cell_type": "code",
      "source": [
        "#TENSOR\n",
        "TENSOR = torch.tensor([[[3, 2, 6, 7],\n",
        "                        [2, 3, 5, 7]],\n",
        "                       [[1, 2, 4, 9], [2, 1, 4, 44]],\n",
        "                       ])\n",
        "TENSOR\n"
      ],
      "metadata": {
        "colab": {
          "base_uri": "https://localhost:8080/"
        },
        "id": "BBer225e-GGj",
        "outputId": "984dead0-fc23-49f4-dd0a-7d2e86d4f12f"
      },
      "execution_count": null,
      "outputs": [
        {
          "output_type": "execute_result",
          "data": {
            "text/plain": [
              "tensor([[[ 3,  2,  6,  7],\n",
              "         [ 2,  3,  5,  7]],\n",
              "\n",
              "        [[ 1,  2,  4,  9],\n",
              "         [ 2,  1,  4, 44]]])"
            ]
          },
          "metadata": {},
          "execution_count": 12
        }
      ]
    },
    {
      "cell_type": "code",
      "source": [
        "TENSOR.ndim"
      ],
      "metadata": {
        "colab": {
          "base_uri": "https://localhost:8080/"
        },
        "id": "XQqzr30s-j2A",
        "outputId": "4e39c122-3f95-460a-a7c6-7e03b5d52855"
      },
      "execution_count": null,
      "outputs": [
        {
          "output_type": "execute_result",
          "data": {
            "text/plain": [
              "3"
            ]
          },
          "metadata": {},
          "execution_count": 13
        }
      ]
    },
    {
      "cell_type": "code",
      "source": [
        "TENSOR.shape"
      ],
      "metadata": {
        "colab": {
          "base_uri": "https://localhost:8080/"
        },
        "id": "EnSdo075-whc",
        "outputId": "298a2c7b-c236-450b-bb05-565c48aa893b"
      },
      "execution_count": null,
      "outputs": [
        {
          "output_type": "execute_result",
          "data": {
            "text/plain": [
              "torch.Size([2, 2, 4])"
            ]
          },
          "metadata": {},
          "execution_count": 14
        }
      ]
    },
    {
      "cell_type": "code",
      "source": [
        "TENSOR[0]"
      ],
      "metadata": {
        "colab": {
          "base_uri": "https://localhost:8080/"
        },
        "id": "mNwlvSTO-x0m",
        "outputId": "89aaef4f-d3c1-41fb-cdaa-de85d6f6e514"
      },
      "execution_count": null,
      "outputs": [
        {
          "output_type": "execute_result",
          "data": {
            "text/plain": [
              "tensor([[3, 2, 6, 7],\n",
              "        [2, 3, 5, 7]])"
            ]
          },
          "metadata": {},
          "execution_count": 15
        }
      ]
    },
    {
      "cell_type": "markdown",
      "source": [
        "### Nomenclature\n",
        "- scalar and vector are represented usually in lower case\n",
        "- matrix and tensors are represented as capital letters\n"
      ],
      "metadata": {
        "id": "UmErwua2ATN8"
      }
    },
    {
      "cell_type": "markdown",
      "source": [
        "### Random Tensors\n",
        "Used to initialise weights"
      ],
      "metadata": {
        "id": "y4w9w9aiAj9j"
      }
    },
    {
      "cell_type": "code",
      "source": [
        "#creating a random tensor of size/shape (3, 4)\n",
        "random_tensor = torch.rand(2, 3, 4)\n",
        "random_tensor"
      ],
      "metadata": {
        "colab": {
          "base_uri": "https://localhost:8080/"
        },
        "id": "kRwOMzZEAftM",
        "outputId": "e60c955b-9dfd-4bd4-c601-e3d7256a1bac"
      },
      "execution_count": null,
      "outputs": [
        {
          "output_type": "execute_result",
          "data": {
            "text/plain": [
              "tensor([[[0.2042, 0.7340, 0.0796, 0.1897],\n",
              "         [0.5613, 0.7262, 0.3401, 0.6701],\n",
              "         [0.4394, 0.4459, 0.0574, 0.4740]],\n",
              "\n",
              "        [[0.4432, 0.5784, 0.2422, 0.1745],\n",
              "         [0.3809, 0.6635, 0.5437, 0.6276],\n",
              "         [0.3556, 0.8783, 0.9032, 0.1701]]])"
            ]
          },
          "metadata": {},
          "execution_count": 16
        }
      ]
    },
    {
      "cell_type": "code",
      "source": [
        "#creating a random tensor with similiar shape to an image tensor\n",
        "random_image_size_tensor = torch.rand(size = (224, 224, 3))\n",
        "random_image_size_tensor.shape, random_image_size_tensor.ndim"
      ],
      "metadata": {
        "colab": {
          "base_uri": "https://localhost:8080/"
        },
        "id": "IsCHscvh-3he",
        "outputId": "7cfd214c-2221-4c92-841c-f23da98a4cc8"
      },
      "execution_count": null,
      "outputs": [
        {
          "output_type": "execute_result",
          "data": {
            "text/plain": [
              "(torch.Size([224, 224, 3]), 3)"
            ]
          },
          "metadata": {},
          "execution_count": 17
        }
      ]
    },
    {
      "cell_type": "markdown",
      "source": [
        "### Zeros and ones"
      ],
      "metadata": {
        "id": "Hml3iO-GCpk7"
      }
    },
    {
      "cell_type": "code",
      "source": [
        "# zero tensor\n",
        "zeros = torch.zeros(size = (3, 4))\n",
        "zeros"
      ],
      "metadata": {
        "colab": {
          "base_uri": "https://localhost:8080/"
        },
        "id": "nv2z9k3wBJEu",
        "outputId": "40162c93-8072-42c2-dd26-26b8ccb2a178"
      },
      "execution_count": null,
      "outputs": [
        {
          "output_type": "execute_result",
          "data": {
            "text/plain": [
              "tensor([[0., 0., 0., 0.],\n",
              "        [0., 0., 0., 0.],\n",
              "        [0., 0., 0., 0.]])"
            ]
          },
          "metadata": {},
          "execution_count": 18
        }
      ]
    },
    {
      "cell_type": "code",
      "source": [
        "ones = torch.ones(size = (3, 4))\n",
        "ones"
      ],
      "metadata": {
        "colab": {
          "base_uri": "https://localhost:8080/"
        },
        "id": "8SiRy2BUCyEK",
        "outputId": "4f090a8f-2c64-49e1-ce26-d5ff3bcc25a6"
      },
      "execution_count": null,
      "outputs": [
        {
          "output_type": "execute_result",
          "data": {
            "text/plain": [
              "tensor([[1., 1., 1., 1.],\n",
              "        [1., 1., 1., 1.],\n",
              "        [1., 1., 1., 1.]])"
            ]
          },
          "metadata": {},
          "execution_count": 19
        }
      ]
    },
    {
      "cell_type": "code",
      "source": [
        "ones.dtype"
      ],
      "metadata": {
        "colab": {
          "base_uri": "https://localhost:8080/"
        },
        "id": "625QZWSZC3jh",
        "outputId": "7fbc9d60-1350-4f86-d8be-a57594c2928c"
      },
      "execution_count": null,
      "outputs": [
        {
          "output_type": "execute_result",
          "data": {
            "text/plain": [
              "torch.float32"
            ]
          },
          "metadata": {},
          "execution_count": 20
        }
      ]
    },
    {
      "cell_type": "markdown",
      "source": [
        "### Creating a range of tensors and tensors-like"
      ],
      "metadata": {
        "id": "OutQx1FtDFbd"
      }
    },
    {
      "cell_type": "code",
      "source": [
        "#use torch range\n",
        "one_to_ten = torch.arange(start = 0, end = 10, step = 2)\n",
        "one_to_ten"
      ],
      "metadata": {
        "colab": {
          "base_uri": "https://localhost:8080/"
        },
        "id": "PinQ8AfOC6th",
        "outputId": "285b7439-a0fe-49ec-f29f-ce39110c39f4"
      },
      "execution_count": null,
      "outputs": [
        {
          "output_type": "execute_result",
          "data": {
            "text/plain": [
              "tensor([0, 2, 4, 6, 8])"
            ]
          },
          "metadata": {},
          "execution_count": 21
        }
      ]
    },
    {
      "cell_type": "code",
      "source": [
        "# tensors like (of same shape)\n",
        "five_zeros = torch.zeros_like(input=one_to_ten)\n",
        "five_zeros"
      ],
      "metadata": {
        "id": "lixwcRBNDN6V",
        "colab": {
          "base_uri": "https://localhost:8080/"
        },
        "outputId": "32e873b3-c9ee-428c-9f1b-5176fcd45b2f"
      },
      "execution_count": null,
      "outputs": [
        {
          "output_type": "execute_result",
          "data": {
            "text/plain": [
              "tensor([0, 0, 0, 0, 0])"
            ]
          },
          "metadata": {},
          "execution_count": 22
        }
      ]
    },
    {
      "cell_type": "markdown",
      "source": [
        "### Tensor Datatypes\n",
        "\n",
        "**Note:** tensor not right datatype (tensor.dtype) /shape(tensor.shape) /on right device(tensor.device) --> common error for incorrect datatype\n"
      ],
      "metadata": {
        "id": "xeB0AU8tb15M"
      }
    },
    {
      "cell_type": "code",
      "source": [
        "int_64_tensor = torch.tensor([3, 5, 7, 8])\n",
        "int_64_tensor, int_64_tensor.dtype"
      ],
      "metadata": {
        "colab": {
          "base_uri": "https://localhost:8080/"
        },
        "id": "FmuCAT-dbdkR",
        "outputId": "987a7b27-2f76-45f8-9fd9-212734c429f7"
      },
      "execution_count": null,
      "outputs": [
        {
          "output_type": "execute_result",
          "data": {
            "text/plain": [
              "(tensor([3, 5, 7, 8]), torch.int64)"
            ]
          },
          "metadata": {},
          "execution_count": 23
        }
      ]
    },
    {
      "cell_type": "code",
      "source": [
        "float_32_tensor = torch.tensor([3.0, 5, 7.2, 8])\n",
        "float_32_tensor, float_32_tensor.dtype"
      ],
      "metadata": {
        "colab": {
          "base_uri": "https://localhost:8080/"
        },
        "id": "QAdB7Zy-cDYt",
        "outputId": "2ce8430e-2098-433a-b23f-dba59f97baab"
      },
      "execution_count": null,
      "outputs": [
        {
          "output_type": "execute_result",
          "data": {
            "text/plain": [
              "(tensor([3.0000, 5.0000, 7.2000, 8.0000]), torch.float32)"
            ]
          },
          "metadata": {},
          "execution_count": 24
        }
      ]
    },
    {
      "cell_type": "code",
      "source": [
        "float_32_tensor_2 = torch.tensor([3.0, 5.1, 7, 8], dtype = None)\n",
        "float_32_tensor_2, float_32_tensor_2.dtype"
      ],
      "metadata": {
        "colab": {
          "base_uri": "https://localhost:8080/"
        },
        "id": "bim7vISBcYvv",
        "outputId": "1dc41eaf-26a4-49e6-dc57-c48b705a3b92"
      },
      "execution_count": null,
      "outputs": [
        {
          "output_type": "execute_result",
          "data": {
            "text/plain": [
              "(tensor([3.0000, 5.1000, 7.0000, 8.0000]), torch.float32)"
            ]
          },
          "metadata": {},
          "execution_count": 25
        }
      ]
    },
    {
      "cell_type": "code",
      "source": [
        "float_16_tensor = torch.tensor([3, 5, 7, 8], dtype = torch.float16)\n",
        "float_16_tensor, float_16_tensor.dtype"
      ],
      "metadata": {
        "colab": {
          "base_uri": "https://localhost:8080/"
        },
        "id": "7wMLRxnBcgQt",
        "outputId": "3f82b8a1-bd30-4015-9c3a-75e905d599db"
      },
      "execution_count": null,
      "outputs": [
        {
          "output_type": "execute_result",
          "data": {
            "text/plain": [
              "(tensor([3., 5., 7., 8.], dtype=torch.float16), torch.float16)"
            ]
          },
          "metadata": {},
          "execution_count": 26
        }
      ]
    },
    {
      "cell_type": "code",
      "source": [
        "int_tensor = torch.tensor([3, 5, 2, 5],\n",
        "                          dtype = None #datatype\n",
        "                          , device=None, #device - 'cpu' / 'cuda'(gpu) if two tensors are not on same device then error\n",
        "                          requires_grad=False #track gradient with tensor operations\n",
        "                          )"
      ],
      "metadata": {
        "id": "1JQzV_VVcs4M"
      },
      "execution_count": null,
      "outputs": []
    },
    {
      "cell_type": "code",
      "source": [
        "float_16_tensor_typecast = float_32_tensor.type(torch.float16)\n",
        "float_16_tensor_typecast, float_16_tensor_typecast.dtype"
      ],
      "metadata": {
        "colab": {
          "base_uri": "https://localhost:8080/"
        },
        "id": "cwbLoVXxfSxX",
        "outputId": "253a544a-a912-4538-d708-d8549b45ba1c"
      },
      "execution_count": null,
      "outputs": [
        {
          "output_type": "execute_result",
          "data": {
            "text/plain": [
              "(tensor([3.0000, 5.0000, 7.1992, 8.0000], dtype=torch.float16), torch.float16)"
            ]
          },
          "metadata": {},
          "execution_count": 28
        }
      ]
    },
    {
      "cell_type": "code",
      "source": [
        "float_16_tensor*float_32_tensor"
      ],
      "metadata": {
        "colab": {
          "base_uri": "https://localhost:8080/"
        },
        "id": "JWvjDfRGfeZt",
        "outputId": "937dc4e0-dab0-41d5-977c-780f17adf5c2"
      },
      "execution_count": null,
      "outputs": [
        {
          "output_type": "execute_result",
          "data": {
            "text/plain": [
              "tensor([ 9.0000, 25.0000, 50.4000, 64.0000])"
            ]
          },
          "metadata": {},
          "execution_count": 29
        }
      ]
    },
    {
      "cell_type": "code",
      "source": [
        "float_32_tensor*int_64_tensor"
      ],
      "metadata": {
        "colab": {
          "base_uri": "https://localhost:8080/"
        },
        "id": "5Z6qIQ6pfyce",
        "outputId": "c148d997-3e3b-40e2-f885-c1ae7955d666"
      },
      "execution_count": null,
      "outputs": [
        {
          "output_type": "execute_result",
          "data": {
            "text/plain": [
              "tensor([ 9.0000, 25.0000, 50.4000, 64.0000])"
            ]
          },
          "metadata": {},
          "execution_count": 30
        }
      ]
    },
    {
      "cell_type": "code",
      "source": [
        "some_tensor = torch.rand(3, 4)\n",
        "some_tensor"
      ],
      "metadata": {
        "colab": {
          "base_uri": "https://localhost:8080/"
        },
        "id": "Cxj18-ATf-_R",
        "outputId": "247dd2ff-5149-438f-ac04-60e14e4794dc"
      },
      "execution_count": null,
      "outputs": [
        {
          "output_type": "execute_result",
          "data": {
            "text/plain": [
              "tensor([[0.9094, 0.2581, 0.5022, 0.3534],\n",
              "        [0.3782, 0.0641, 0.5403, 0.5813],\n",
              "        [0.9592, 0.3317, 0.7805, 0.9548]])"
            ]
          },
          "metadata": {},
          "execution_count": 31
        }
      ]
    },
    {
      "cell_type": "code",
      "source": [
        "some_tensor.dtype, some_tensor.shape, some_tensor.device"
      ],
      "metadata": {
        "colab": {
          "base_uri": "https://localhost:8080/"
        },
        "id": "nVauYOvpg64d",
        "outputId": "6d61d791-80af-4ba8-e1f4-855b168348a1"
      },
      "execution_count": null,
      "outputs": [
        {
          "output_type": "execute_result",
          "data": {
            "text/plain": [
              "(torch.float32, torch.Size([3, 4]), device(type='cpu'))"
            ]
          },
          "metadata": {},
          "execution_count": 32
        }
      ]
    },
    {
      "cell_type": "markdown",
      "source": [
        "### Tensor Manipulation\n",
        "* Addition\n",
        "* Subtraction\n",
        "* Multiplication (element wise)\n",
        "* Division\n",
        "* Matrix Multiplication\n"
      ],
      "metadata": {
        "id": "QlpacX2IhwEL"
      }
    },
    {
      "cell_type": "code",
      "source": [
        "operation_tensor = torch.tensor([1, 2, 3, 5])\n",
        "#addition\n",
        "operation_tensor+10"
      ],
      "metadata": {
        "colab": {
          "base_uri": "https://localhost:8080/"
        },
        "id": "hq4lij7vhKAY",
        "outputId": "ff30cdd4-4610-497e-cf5a-0a22b051ea6e"
      },
      "execution_count": null,
      "outputs": [
        {
          "output_type": "execute_result",
          "data": {
            "text/plain": [
              "tensor([11, 12, 13, 15])"
            ]
          },
          "metadata": {},
          "execution_count": 33
        }
      ]
    },
    {
      "cell_type": "code",
      "source": [
        "operation_tensor*10"
      ],
      "metadata": {
        "colab": {
          "base_uri": "https://localhost:8080/"
        },
        "id": "u4wt83FRiNtT",
        "outputId": "28d9b8d3-8dc8-4dba-c71b-ea1776259795"
      },
      "execution_count": null,
      "outputs": [
        {
          "output_type": "execute_result",
          "data": {
            "text/plain": [
              "tensor([10, 20, 30, 50])"
            ]
          },
          "metadata": {},
          "execution_count": 34
        }
      ]
    },
    {
      "cell_type": "code",
      "source": [
        "operation_tensor-10"
      ],
      "metadata": {
        "colab": {
          "base_uri": "https://localhost:8080/"
        },
        "id": "j3niXrS8iV5D",
        "outputId": "d5582907-f02e-4057-f300-9ae79d7d96cc"
      },
      "execution_count": null,
      "outputs": [
        {
          "output_type": "execute_result",
          "data": {
            "text/plain": [
              "tensor([-9, -8, -7, -5])"
            ]
          },
          "metadata": {},
          "execution_count": 35
        }
      ]
    },
    {
      "cell_type": "code",
      "source": [
        "torch.mul(operation_tensor, 10)"
      ],
      "metadata": {
        "colab": {
          "base_uri": "https://localhost:8080/"
        },
        "id": "AlEFnncWieOq",
        "outputId": "a738ffe3-38b2-41a6-ecc1-9bcffcec5d20"
      },
      "execution_count": null,
      "outputs": [
        {
          "output_type": "execute_result",
          "data": {
            "text/plain": [
              "tensor([10, 20, 30, 50])"
            ]
          },
          "metadata": {},
          "execution_count": 36
        }
      ]
    },
    {
      "cell_type": "code",
      "source": [
        "operation_tensor/2"
      ],
      "metadata": {
        "colab": {
          "base_uri": "https://localhost:8080/"
        },
        "id": "rhyzC3_TiqaC",
        "outputId": "d3651165-4b87-4f38-94c7-1f6937339109"
      },
      "execution_count": null,
      "outputs": [
        {
          "output_type": "execute_result",
          "data": {
            "text/plain": [
              "tensor([0.5000, 1.0000, 1.5000, 2.5000])"
            ]
          },
          "metadata": {},
          "execution_count": 37
        }
      ]
    },
    {
      "cell_type": "code",
      "source": [
        " second_operation_tensor = torch.tensor([2, 8, 9, 11])\n",
        " second_operation_tensor*operation_tensor"
      ],
      "metadata": {
        "colab": {
          "base_uri": "https://localhost:8080/"
        },
        "id": "7-IE1ajJi6qr",
        "outputId": "0a006fb8-a44f-48a2-be40-aff2bbe7dc2b"
      },
      "execution_count": null,
      "outputs": [
        {
          "output_type": "execute_result",
          "data": {
            "text/plain": [
              "tensor([ 2, 16, 27, 55])"
            ]
          },
          "metadata": {},
          "execution_count": 38
        }
      ]
    },
    {
      "cell_type": "code",
      "source": [
        "%%time\n",
        "# @ is symbol of matmul/mm(alias)\n",
        "torch.matmul(second_operation_tensor, operation_tensor)\n"
      ],
      "metadata": {
        "colab": {
          "base_uri": "https://localhost:8080/"
        },
        "id": "hVlrKqo3jb8y",
        "outputId": "65882614-1cf6-497f-a040-0a28117f36c1"
      },
      "execution_count": null,
      "outputs": [
        {
          "output_type": "stream",
          "name": "stdout",
          "text": [
            "CPU times: user 282 µs, sys: 45 µs, total: 327 µs\n",
            "Wall time: 2.34 ms\n"
          ]
        },
        {
          "output_type": "execute_result",
          "data": {
            "text/plain": [
              "tensor(100)"
            ]
          },
          "metadata": {},
          "execution_count": 39
        }
      ]
    },
    {
      "cell_type": "code",
      "source": [
        "%%time\n",
        "result = 0\n",
        "for i in range(4):\n",
        "  result+= operation_tensor[i]*second_operation_tensor\n",
        "result"
      ],
      "metadata": {
        "colab": {
          "base_uri": "https://localhost:8080/"
        },
        "id": "lNWMGXFejkm5",
        "outputId": "beff8d60-ab18-4ea8-dd5a-88c9d8f5081b"
      },
      "execution_count": null,
      "outputs": [
        {
          "output_type": "stream",
          "name": "stdout",
          "text": [
            "CPU times: user 575 µs, sys: 0 ns, total: 575 µs\n",
            "Wall time: 644 µs\n"
          ]
        },
        {
          "output_type": "execute_result",
          "data": {
            "text/plain": [
              "tensor([ 22,  88,  99, 121])"
            ]
          },
          "metadata": {},
          "execution_count": 40
        }
      ]
    },
    {
      "cell_type": "markdown",
      "source": [
        "Inbuilt method takes less time\n",
        "\n",
        "Shape error:\n",
        "For matrix multiplication:\n",
        "1. **inner dimensions** should match\n",
        "  * (3, 2) @ (3, 2) error\n",
        "  * (2, 3) @ (3, 2) work\n",
        "  * (3, 2) @ (2, 3) work\n",
        "2. Result matrix has shape of outer dimensions"
      ],
      "metadata": {
        "id": "YyWYOd2Dkjua"
      }
    },
    {
      "cell_type": "code",
      "source": [
        "#Transpose\n",
        "matrix1 = torch.rand(3, 2)\n",
        "matrix1"
      ],
      "metadata": {
        "colab": {
          "base_uri": "https://localhost:8080/"
        },
        "id": "cQsLh6-0kQfl",
        "outputId": "8ed2b953-63a9-4539-c297-8a2978acda1a"
      },
      "execution_count": null,
      "outputs": [
        {
          "output_type": "execute_result",
          "data": {
            "text/plain": [
              "tensor([[0.2339, 0.3385],\n",
              "        [0.9695, 0.9546],\n",
              "        [0.1754, 0.1819]])"
            ]
          },
          "metadata": {},
          "execution_count": 41
        }
      ]
    },
    {
      "cell_type": "code",
      "source": [
        "matrix1.T"
      ],
      "metadata": {
        "colab": {
          "base_uri": "https://localhost:8080/"
        },
        "id": "YsNvPy16mrut",
        "outputId": "c67fc4d1-0d0d-4623-89f6-8675c0c64ae7"
      },
      "execution_count": null,
      "outputs": [
        {
          "output_type": "execute_result",
          "data": {
            "text/plain": [
              "tensor([[0.2339, 0.9695, 0.1754],\n",
              "        [0.3385, 0.9546, 0.1819]])"
            ]
          },
          "metadata": {},
          "execution_count": 42
        }
      ]
    },
    {
      "cell_type": "markdown",
      "source": [
        "### Tensor Aggregation\n",
        "find min, max, mean, sum, etc."
      ],
      "metadata": {
        "id": "GDdjGHxDnM15"
      }
    },
    {
      "cell_type": "code",
      "source": [
        "m1 = torch.arange(2, 50, 5)\n",
        "torch.min(m1), torch.max(m1), torch.sum(m1)"
      ],
      "metadata": {
        "colab": {
          "base_uri": "https://localhost:8080/"
        },
        "id": "UpWskepKmz8t",
        "outputId": "01debdc9-b146-42d6-8301-db6df3538c83"
      },
      "execution_count": null,
      "outputs": [
        {
          "output_type": "execute_result",
          "data": {
            "text/plain": [
              "(tensor(2), tensor(47), tensor(245))"
            ]
          },
          "metadata": {},
          "execution_count": 43
        }
      ]
    },
    {
      "cell_type": "code",
      "source": [
        "torch.mean(m1)\n",
        "#here gives datatype error so need to typecast"
      ],
      "metadata": {
        "colab": {
          "base_uri": "https://localhost:8080/",
          "height": 250
        },
        "id": "ZKOgHK7xnguo",
        "outputId": "a9959984-0f78-4ab8-de7d-8828c82ff54a"
      },
      "execution_count": null,
      "outputs": [
        {
          "output_type": "error",
          "ename": "RuntimeError",
          "evalue": "ignored",
          "traceback": [
            "\u001b[0;31m---------------------------------------------------------------------------\u001b[0m",
            "\u001b[0;31mRuntimeError\u001b[0m                              Traceback (most recent call last)",
            "\u001b[0;32m<ipython-input-44-3da385c96d8d>\u001b[0m in \u001b[0;36m<cell line: 1>\u001b[0;34m()\u001b[0m\n\u001b[0;32m----> 1\u001b[0;31m \u001b[0mtorch\u001b[0m\u001b[0;34m.\u001b[0m\u001b[0mmean\u001b[0m\u001b[0;34m(\u001b[0m\u001b[0mm1\u001b[0m\u001b[0;34m)\u001b[0m\u001b[0;34m\u001b[0m\u001b[0;34m\u001b[0m\u001b[0m\n\u001b[0m\u001b[1;32m      2\u001b[0m \u001b[0;31m#here gives datatype error so need to typecast\u001b[0m\u001b[0;34m\u001b[0m\u001b[0;34m\u001b[0m\u001b[0m\n",
            "\u001b[0;31mRuntimeError\u001b[0m: mean(): could not infer output dtype. Input dtype must be either a floating point or complex dtype. Got: Long"
          ]
        }
      ]
    },
    {
      "cell_type": "code",
      "source": [
        "torch.mean(m1, dtype = torch.float32)"
      ],
      "metadata": {
        "colab": {
          "base_uri": "https://localhost:8080/"
        },
        "id": "oybk05gOntcC",
        "outputId": "dcf26f88-e85d-4043-8865-b3e0e9003734"
      },
      "execution_count": null,
      "outputs": [
        {
          "output_type": "execute_result",
          "data": {
            "text/plain": [
              "tensor(24.5000)"
            ]
          },
          "metadata": {},
          "execution_count": 45
        }
      ]
    },
    {
      "cell_type": "code",
      "source": [
        "torch.mean(m1.type(torch.float32))"
      ],
      "metadata": {
        "colab": {
          "base_uri": "https://localhost:8080/"
        },
        "id": "XGoMzKK3oASM",
        "outputId": "7b50ef59-33f1-40b2-a01e-87adb6f3e58d"
      },
      "execution_count": null,
      "outputs": [
        {
          "output_type": "execute_result",
          "data": {
            "text/plain": [
              "tensor(24.5000)"
            ]
          },
          "metadata": {},
          "execution_count": 46
        }
      ]
    },
    {
      "cell_type": "code",
      "source": [
        "m1.sum() #can do like this also"
      ],
      "metadata": {
        "colab": {
          "base_uri": "https://localhost:8080/"
        },
        "id": "oyp7NkpWoMMG",
        "outputId": "3ba4913e-1d32-4f62-ba49-9be6ebbbd93a"
      },
      "execution_count": null,
      "outputs": [
        {
          "output_type": "execute_result",
          "data": {
            "text/plain": [
              "tensor(245)"
            ]
          },
          "metadata": {},
          "execution_count": 47
        }
      ]
    },
    {
      "cell_type": "code",
      "source": [
        "#position min/max -> get min/max index\n",
        "m1.argmin(), m1.argmax()"
      ],
      "metadata": {
        "colab": {
          "base_uri": "https://localhost:8080/"
        },
        "id": "Zud-fOBVoPua",
        "outputId": "6049ac09-796c-4d25-af14-09b64af58e53"
      },
      "execution_count": null,
      "outputs": [
        {
          "output_type": "execute_result",
          "data": {
            "text/plain": [
              "(tensor(0), tensor(9))"
            ]
          },
          "metadata": {},
          "execution_count": 48
        }
      ]
    },
    {
      "cell_type": "markdown",
      "source": [
        "### Reshaping, Stacking, Squeezing and Unsqueezing Tensors\n",
        "* Reshaping - reshape an input tensor to a defined shape\n",
        "* view - return a view of input tensor of a certain shape but the same memory as original tensor\n",
        "* combining multiple tensors on top of each other(vstack) or side by side(hstack)\n",
        "* Squeeze - remove all `1` dimensions(dimension of size 1) from a tensor<br>\n",
        "  Example - `A*1*B*C*1*D -> A*B*C*D`\n",
        "* Unsqueeze - add a `1` dimension to a target tensor\n",
        "* Permute - Return a view of the input with dimensions permuted (swapped) in a certain way"
      ],
      "metadata": {
        "id": "zBjZIZO-qCN6"
      }
    },
    {
      "cell_type": "code",
      "source": [
        "x = torch.arange(1., 10.)\n",
        "x, x.shape"
      ],
      "metadata": {
        "id": "szwJC713owIe",
        "colab": {
          "base_uri": "https://localhost:8080/"
        },
        "outputId": "f2aaad7c-ddd7-4fe9-cca1-27f901215181"
      },
      "execution_count": null,
      "outputs": [
        {
          "output_type": "execute_result",
          "data": {
            "text/plain": [
              "(tensor([1., 2., 3., 4., 5., 6., 7., 8., 9.]), torch.Size([9]))"
            ]
          },
          "metadata": {},
          "execution_count": 56
        }
      ]
    },
    {
      "cell_type": "code",
      "source": [
        "#add extra dimension\n",
        "x_reshaped = x.reshape(1, 9) #dimension should match so that it can be matched\n",
        "#notice extra dimension has been added 2 brackets\n",
        "x_reshaped_2 = x.reshape(9, 1)\n",
        "x_reshaped, x_reshaped_2"
      ],
      "metadata": {
        "colab": {
          "base_uri": "https://localhost:8080/"
        },
        "id": "0ZJUMOpIrixm",
        "outputId": "c7fc3bb3-bb6b-498c-c5d1-065d1241fc3e"
      },
      "execution_count": null,
      "outputs": [
        {
          "output_type": "execute_result",
          "data": {
            "text/plain": [
              "(tensor([[1., 2., 3., 4., 5., 6., 7., 8., 9.]]),\n",
              " tensor([[1.],\n",
              "         [2.],\n",
              "         [3.],\n",
              "         [4.],\n",
              "         [5.],\n",
              "         [6.],\n",
              "         [7.],\n",
              "         [8.],\n",
              "         [9.]]))"
            ]
          },
          "metadata": {},
          "execution_count": 57
        }
      ]
    },
    {
      "cell_type": "code",
      "source": [
        "z = x.view(1, 9)\n",
        "z, z.shape #although it appears similiar to reshape it shares same memory with original tensor"
      ],
      "metadata": {
        "colab": {
          "base_uri": "https://localhost:8080/"
        },
        "id": "uNYfB1FmrsvC",
        "outputId": "b37b2b8b-7b2b-4db1-dc4a-805ac607b126"
      },
      "execution_count": null,
      "outputs": [
        {
          "output_type": "execute_result",
          "data": {
            "text/plain": [
              "(tensor([[1., 2., 3., 4., 5., 6., 7., 8., 9.]]), torch.Size([1, 9]))"
            ]
          },
          "metadata": {},
          "execution_count": 59
        }
      ]
    },
    {
      "cell_type": "code",
      "source": [
        "# so changing view changes original tensor as they share smae memory\n",
        "z[:, 0] = 5\n",
        "z, x"
      ],
      "metadata": {
        "colab": {
          "base_uri": "https://localhost:8080/"
        },
        "id": "vzOqVPtSsv4v",
        "outputId": "bddca0b2-f873-4f7f-e3d6-bb19edc61c1a"
      },
      "execution_count": null,
      "outputs": [
        {
          "output_type": "execute_result",
          "data": {
            "text/plain": [
              "(tensor([[5., 2., 3., 4., 5., 6., 7., 8., 9.]]),\n",
              " tensor([5., 2., 3., 4., 5., 6., 7., 8., 9.]))"
            ]
          },
          "metadata": {},
          "execution_count": 60
        }
      ]
    },
    {
      "cell_type": "code",
      "source": [
        "#Stack tensors on top of each other\n",
        "x_stack = torch.stack([x, x, x, x],dim = 0)\n",
        "x_stack"
      ],
      "metadata": {
        "colab": {
          "base_uri": "https://localhost:8080/"
        },
        "id": "vrmExIG-tJZj",
        "outputId": "7b7a5e60-9d22-4a56-fcd3-cd9542641cfd"
      },
      "execution_count": null,
      "outputs": [
        {
          "output_type": "execute_result",
          "data": {
            "text/plain": [
              "tensor([[5., 2., 3., 4., 5., 6., 7., 8., 9.],\n",
              "        [5., 2., 3., 4., 5., 6., 7., 8., 9.],\n",
              "        [5., 2., 3., 4., 5., 6., 7., 8., 9.],\n",
              "        [5., 2., 3., 4., 5., 6., 7., 8., 9.]])"
            ]
          },
          "metadata": {},
          "execution_count": 62
        }
      ]
    },
    {
      "cell_type": "code",
      "source": [
        "#hstack\n",
        "torch.stack([x, x, x, x], dim = 1)"
      ],
      "metadata": {
        "colab": {
          "base_uri": "https://localhost:8080/"
        },
        "id": "6jacJtFHtwdx",
        "outputId": "db46539e-0da3-49f8-b746-1553630153e6"
      },
      "execution_count": null,
      "outputs": [
        {
          "output_type": "execute_result",
          "data": {
            "text/plain": [
              "tensor([[5., 5., 5., 5.],\n",
              "        [2., 2., 2., 2.],\n",
              "        [3., 3., 3., 3.],\n",
              "        [4., 4., 4., 4.],\n",
              "        [5., 5., 5., 5.],\n",
              "        [6., 6., 6., 6.],\n",
              "        [7., 7., 7., 7.],\n",
              "        [8., 8., 8., 8.],\n",
              "        [9., 9., 9., 9.]])"
            ]
          },
          "metadata": {},
          "execution_count": 63
        }
      ]
    },
    {
      "cell_type": "code",
      "source": [
        " #torch squeeze\n",
        " x_squeeze = torch.squeeze(x_reshaped)\n",
        "#  or by x_reshaped.squeeze()\n",
        " x_reshaped.shape, x_squeeze, x_squeeze.shape"
      ],
      "metadata": {
        "colab": {
          "base_uri": "https://localhost:8080/"
        },
        "id": "jisWzjiAt3GU",
        "outputId": "2b5eec64-8c10-4472-e833-a8d42afc300f"
      },
      "execution_count": null,
      "outputs": [
        {
          "output_type": "execute_result",
          "data": {
            "text/plain": [
              "(torch.Size([1, 9]),\n",
              " tensor([5., 2., 3., 4., 5., 6., 7., 8., 9.]),\n",
              " torch.Size([9]))"
            ]
          },
          "metadata": {},
          "execution_count": 77
        }
      ]
    },
    {
      "cell_type": "code",
      "source": [
        "# unsqueeze adds a single dimension to a target tensor at a specific dim (dimension)\n",
        "x_squeeze.unsqueeze(dim = 1), x_squeeze.unsqueeze(dim = 0)"
      ],
      "metadata": {
        "colab": {
          "base_uri": "https://localhost:8080/"
        },
        "id": "doSrFqm9t7h5",
        "outputId": "fc6f3e8c-e54d-4821-9709-537edc266150"
      },
      "execution_count": null,
      "outputs": [
        {
          "output_type": "execute_result",
          "data": {
            "text/plain": [
              "(tensor([[5.],\n",
              "         [2.],\n",
              "         [3.],\n",
              "         [4.],\n",
              "         [5.],\n",
              "         [6.],\n",
              "         [7.],\n",
              "         [8.],\n",
              "         [9.]]),\n",
              " tensor([[5., 2., 3., 4., 5., 6., 7., 8., 9.]]))"
            ]
          },
          "metadata": {},
          "execution_count": 84
        }
      ]
    },
    {
      "cell_type": "code",
      "source": [
        "#torch.permute - rearranges the dimensions of a target tensor in a specified order\n",
        "#returns a view so change in view will result in change in original\n",
        "Image = torch.rand(size = (224, 224, 3))\n",
        "Image_permuted = Image.permute(2, 0, 1) #0th dim is previous 2nd dim, 1st is prev 0th and so on...\n",
        "Image_permuted.shape"
      ],
      "metadata": {
        "colab": {
          "base_uri": "https://localhost:8080/"
        },
        "id": "ZuBp4q3ZwcrE",
        "outputId": "97b845d4-860e-4495-8669-c4022f0bf265"
      },
      "execution_count": null,
      "outputs": [
        {
          "output_type": "execute_result",
          "data": {
            "text/plain": [
              "torch.Size([3, 224, 224])"
            ]
          },
          "metadata": {},
          "execution_count": 87
        }
      ]
    },
    {
      "cell_type": "code",
      "source": [
        "ex = torch.rand(size = (2, 4, 3))\n",
        "ex2 = ex.permute(2, 0, 1)\n",
        "ex"
      ],
      "metadata": {
        "colab": {
          "base_uri": "https://localhost:8080/"
        },
        "id": "8-7fjNr4x5eH",
        "outputId": "56ddece6-8abc-472c-9c97-f3b87852b223"
      },
      "execution_count": null,
      "outputs": [
        {
          "output_type": "execute_result",
          "data": {
            "text/plain": [
              "tensor([[[0.3021, 0.7444, 0.6821],\n",
              "         [0.4139, 0.9937, 0.7620],\n",
              "         [0.2273, 0.0060, 0.9781],\n",
              "         [0.4619, 0.9076, 0.7473]],\n",
              "\n",
              "        [[0.1172, 0.2158, 0.1659],\n",
              "         [0.0476, 0.0701, 0.3991],\n",
              "         [0.3770, 0.7971, 0.6465],\n",
              "         [0.4119, 0.7816, 0.5741]]])"
            ]
          },
          "metadata": {},
          "execution_count": 89
        }
      ]
    },
    {
      "cell_type": "code",
      "source": [
        "ex2"
      ],
      "metadata": {
        "colab": {
          "base_uri": "https://localhost:8080/"
        },
        "id": "o7WihXwSyt1c",
        "outputId": "110907ac-e039-4fc3-fad9-9856b1ff14bc"
      },
      "execution_count": null,
      "outputs": [
        {
          "output_type": "execute_result",
          "data": {
            "text/plain": [
              "tensor([[[0.3021, 0.4139, 0.2273, 0.4619],\n",
              "         [0.1172, 0.0476, 0.3770, 0.4119]],\n",
              "\n",
              "        [[0.7444, 0.9937, 0.0060, 0.9076],\n",
              "         [0.2158, 0.0701, 0.7971, 0.7816]],\n",
              "\n",
              "        [[0.6821, 0.7620, 0.9781, 0.7473],\n",
              "         [0.1659, 0.3991, 0.6465, 0.5741]]])"
            ]
          },
          "metadata": {},
          "execution_count": 90
        }
      ]
    },
    {
      "cell_type": "code",
      "source": [
        "    ex2[0][0][0]= 5 #or ex2[0, 0, 0]\n",
        "    ex2"
      ],
      "metadata": {
        "colab": {
          "base_uri": "https://localhost:8080/"
        },
        "id": "pExXqjR8y7R0",
        "outputId": "e06b16a2-b5f1-4d57-c1ec-abacd0badb0b"
      },
      "execution_count": null,
      "outputs": [
        {
          "output_type": "execute_result",
          "data": {
            "text/plain": [
              "tensor([[[5.0000, 0.4139, 0.2273, 0.4619],\n",
              "         [0.1172, 0.0476, 0.3770, 0.4119]],\n",
              "\n",
              "        [[0.7444, 0.9937, 0.0060, 0.9076],\n",
              "         [0.2158, 0.0701, 0.7971, 0.7816]],\n",
              "\n",
              "        [[0.6821, 0.7620, 0.9781, 0.7473],\n",
              "         [0.1659, 0.3991, 0.6465, 0.5741]]])"
            ]
          },
          "metadata": {},
          "execution_count": 91
        }
      ]
    },
    {
      "cell_type": "code",
      "source": [
        "ex #change in original"
      ],
      "metadata": {
        "colab": {
          "base_uri": "https://localhost:8080/"
        },
        "id": "kS3xwHBwzF_d",
        "outputId": "c110ea3b-5d2d-436c-f2e8-1dd0f5d82392"
      },
      "execution_count": null,
      "outputs": [
        {
          "output_type": "execute_result",
          "data": {
            "text/plain": [
              "tensor([[[5.0000, 0.7444, 0.6821],\n",
              "         [0.4139, 0.9937, 0.7620],\n",
              "         [0.2273, 0.0060, 0.9781],\n",
              "         [0.4619, 0.9076, 0.7473]],\n",
              "\n",
              "        [[0.1172, 0.2158, 0.1659],\n",
              "         [0.0476, 0.0701, 0.3991],\n",
              "         [0.3770, 0.7971, 0.6465],\n",
              "         [0.4119, 0.7816, 0.5741]]])"
            ]
          },
          "metadata": {},
          "execution_count": 93
        }
      ]
    },
    {
      "cell_type": "code",
      "source": [
        "#Indexing\n",
        "#use `:` to get everything\n",
        "ex[:, :, 1]"
      ],
      "metadata": {
        "colab": {
          "base_uri": "https://localhost:8080/"
        },
        "id": "k0fVFVCM1APG",
        "outputId": "5099fc51-13b3-49ed-fe28-59d6a5aa9a76"
      },
      "execution_count": null,
      "outputs": [
        {
          "output_type": "execute_result",
          "data": {
            "text/plain": [
              "tensor([[0.7444, 0.9937, 0.0060, 0.9076],\n",
              "        [0.2158, 0.0701, 0.7971, 0.7816]])"
            ]
          },
          "metadata": {},
          "execution_count": 95
        }
      ]
    },
    {
      "cell_type": "markdown",
      "source": [
        "### Numpy and Tensors\n",
        "* numpy to tensor -> `torch.from_numpy(nparray)`\n",
        "* tensor to numpy -> `torch.Tensor.numpy(tensorArray)`"
      ],
      "metadata": {
        "id": "eY8vyFO709_1"
      }
    },
    {
      "cell_type": "code",
      "source": [
        "npArray = np.arange(1.0, 9.0)\n",
        "tensor = torch.from_numpy(npArray)\n",
        "#Warning : default numpy datatype is float64 whereas tensor is float 32 (pytorch reflects default datatype of numpy)\n",
        "npArray, tensor"
      ],
      "metadata": {
        "id": "kxC4O_nezHTe",
        "colab": {
          "base_uri": "https://localhost:8080/"
        },
        "outputId": "50495f0d-e2ed-4496-d49f-ba9c6dea075e"
      },
      "execution_count": 6,
      "outputs": [
        {
          "output_type": "execute_result",
          "data": {
            "text/plain": [
              "(array([1., 2., 3., 4., 5., 6., 7., 8.]),\n",
              " tensor([1., 2., 3., 4., 5., 6., 7., 8.], dtype=torch.float64))"
            ]
          },
          "metadata": {},
          "execution_count": 6
        }
      ]
    },
    {
      "cell_type": "code",
      "source": [
        "onesTensor = torch.ones(8)\n",
        "numpyfromTensor = torch.Tensor.numpy(onesTensor)\n",
        "onesTensor, numpyfromTensor"
      ],
      "metadata": {
        "colab": {
          "base_uri": "https://localhost:8080/"
        },
        "id": "nu3nApNT2wGN",
        "outputId": "0cfaa6f9-9e67-4ca4-8b19-9fbbfc5ae56c"
      },
      "execution_count": 8,
      "outputs": [
        {
          "output_type": "execute_result",
          "data": {
            "text/plain": [
              "(tensor([1., 1., 1., 1., 1., 1., 1., 1.]),\n",
              " array([1., 1., 1., 1., 1., 1., 1., 1.], dtype=float32))"
            ]
          },
          "metadata": {},
          "execution_count": 8
        }
      ]
    },
    {
      "cell_type": "markdown",
      "source": [
        "### Reproducbility (trying to take random out of )\n",
        "To reduce the randomness in neural networks and PyTorch comes the concept of a\n",
        "**random seed**."
      ],
      "metadata": {
        "id": "feo_85h34l56"
      }
    },
    {
      "cell_type": "code",
      "source": [
        "Seed = 42\n",
        "torch.manual_seed(Seed)\n",
        "\n",
        "rt1 = torch.rand(3, 3)\n",
        "rt2 = torch.rand(3, 3)\n",
        "#whenever we run this cell everytime same rand no. (note rt1!=rt2)\n",
        "rt1, rt2"
      ],
      "metadata": {
        "colab": {
          "base_uri": "https://localhost:8080/"
        },
        "id": "n9vwFZpk3Eg_",
        "outputId": "9ed6e9fa-7b43-4fb0-8656-237da664706e"
      },
      "execution_count": 13,
      "outputs": [
        {
          "output_type": "execute_result",
          "data": {
            "text/plain": [
              "(tensor([[0.8823, 0.9150, 0.3829],\n",
              "         [0.9593, 0.3904, 0.6009],\n",
              "         [0.2566, 0.7936, 0.9408]]),\n",
              " tensor([[0.1332, 0.9346, 0.5936],\n",
              "         [0.8694, 0.5677, 0.7411],\n",
              "         [0.4294, 0.8854, 0.5739]]))"
            ]
          },
          "metadata": {},
          "execution_count": 13
        }
      ]
    },
    {
      "cell_type": "code",
      "source": [
        "#if we want same tensor\n",
        "torch.manual_seed(Seed)\n",
        "\n",
        "rt1 = torch.rand(3, 3)\n",
        "torch.manual_seed(Seed)\n",
        "rt2 = torch.rand(3, 3)\n",
        "rt1, rt2"
      ],
      "metadata": {
        "colab": {
          "base_uri": "https://localhost:8080/"
        },
        "id": "Owq0xefkEdEg",
        "outputId": "144aef77-afd6-4b35-8c9d-5d992e65ce5b"
      },
      "execution_count": 14,
      "outputs": [
        {
          "output_type": "execute_result",
          "data": {
            "text/plain": [
              "(tensor([[0.8823, 0.9150, 0.3829],\n",
              "         [0.9593, 0.3904, 0.6009],\n",
              "         [0.2566, 0.7936, 0.9408]]),\n",
              " tensor([[0.8823, 0.9150, 0.3829],\n",
              "         [0.9593, 0.3904, 0.6009],\n",
              "         [0.2566, 0.7936, 0.9408]]))"
            ]
          },
          "metadata": {},
          "execution_count": 14
        }
      ]
    },
    {
      "cell_type": "markdown",
      "source": [
        "# Set Up GPU"
      ],
      "metadata": {
        "id": "TKh-cNHJ0Nr-"
      }
    },
    {
      "cell_type": "code",
      "source": [
        "#Check GPU\n",
        "!nvidia-smi"
      ],
      "metadata": {
        "colab": {
          "base_uri": "https://localhost:8080/"
        },
        "id": "OdSypFqyzu34",
        "outputId": "46b1b0a5-2f76-431e-9642-1ed0d46a0901"
      },
      "execution_count": 1,
      "outputs": [
        {
          "output_type": "stream",
          "name": "stdout",
          "text": [
            "Tue Nov 14 21:49:57 2023       \n",
            "+-----------------------------------------------------------------------------+\n",
            "| NVIDIA-SMI 525.105.17   Driver Version: 525.105.17   CUDA Version: 12.0     |\n",
            "|-------------------------------+----------------------+----------------------+\n",
            "| GPU  Name        Persistence-M| Bus-Id        Disp.A | Volatile Uncorr. ECC |\n",
            "| Fan  Temp  Perf  Pwr:Usage/Cap|         Memory-Usage | GPU-Util  Compute M. |\n",
            "|                               |                      |               MIG M. |\n",
            "|===============================+======================+======================|\n",
            "|   0  Tesla T4            Off  | 00000000:00:04.0 Off |                    0 |\n",
            "| N/A   66C    P8    13W /  70W |      0MiB / 15360MiB |      0%      Default |\n",
            "|                               |                      |                  N/A |\n",
            "+-------------------------------+----------------------+----------------------+\n",
            "                                                                               \n",
            "+-----------------------------------------------------------------------------+\n",
            "| Processes:                                                                  |\n",
            "|  GPU   GI   CI        PID   Type   Process name                  GPU Memory |\n",
            "|        ID   ID                                                   Usage      |\n",
            "|=============================================================================|\n",
            "|  No running processes found                                                 |\n",
            "+-----------------------------------------------------------------------------+\n"
          ]
        }
      ]
    },
    {
      "cell_type": "code",
      "source": [
        "import torch\n",
        "torch.cuda.is_available()"
      ],
      "metadata": {
        "colab": {
          "base_uri": "https://localhost:8080/"
        },
        "id": "vIE5OfUwzzbQ",
        "outputId": "fc565df4-a79f-42d0-bd58-24d5a03e4761"
      },
      "execution_count": 2,
      "outputs": [
        {
          "output_type": "execute_result",
          "data": {
            "text/plain": [
              "True"
            ]
          },
          "metadata": {},
          "execution_count": 2
        }
      ]
    },
    {
      "cell_type": "markdown",
      "source": [
        "For PyTorch since it's capable of running compute on the GPU or CPU, it's best practice to setup device agnostic code: https://pytorch.org/docs/stable/notes/cuda.html#best-practices\n",
        "\n",
        "E.g. run on GPU if available, else default to CPU"
      ],
      "metadata": {
        "id": "ezBYI2Gz1Brz"
      }
    },
    {
      "cell_type": "code",
      "source": [
        "# Setup device agnostic code\n",
        "device = \"cuda\" if torch.cuda.is_available() else \"cpu\"\n",
        "device"
      ],
      "metadata": {
        "colab": {
          "base_uri": "https://localhost:8080/",
          "height": 35
        },
        "id": "wUgfd6Xf0B_N",
        "outputId": "a500c6c5-f195-44dd-c71a-2abfbfcdc493"
      },
      "execution_count": 3,
      "outputs": [
        {
          "output_type": "execute_result",
          "data": {
            "text/plain": [
              "'cuda'"
            ],
            "application/vnd.google.colaboratory.intrinsic+json": {
              "type": "string"
            }
          },
          "metadata": {},
          "execution_count": 3
        }
      ]
    },
    {
      "cell_type": "code",
      "source": [
        "#count no. of devices\n",
        "torch.cuda.device_count()"
      ],
      "metadata": {
        "colab": {
          "base_uri": "https://localhost:8080/"
        },
        "id": "mw7ZFYXj0gSW",
        "outputId": "1b21d44a-f122-4842-82d1-50919aff587d"
      },
      "execution_count": 4,
      "outputs": [
        {
          "output_type": "execute_result",
          "data": {
            "text/plain": [
              "1"
            ]
          },
          "metadata": {},
          "execution_count": 4
        }
      ]
    },
    {
      "cell_type": "markdown",
      "source": [
        "### 3. Putting tensors (and models) on the GPU\n",
        "The reason we want our tensors/models on the GPU is because using a GPU results in faster computations."
      ],
      "metadata": {
        "id": "YvgyJ6wR1gwZ"
      }
    },
    {
      "cell_type": "code",
      "source": [
        "#create a tensor (by default on cpu)\n",
        "tensor = torch.arange(1.0, 8.0)\n",
        "tensor, tensor.device"
      ],
      "metadata": {
        "colab": {
          "base_uri": "https://localhost:8080/"
        },
        "id": "HhI1WEln0pnv",
        "outputId": "908d22be-9ee6-4ebe-acd6-515b766a493e"
      },
      "execution_count": 6,
      "outputs": [
        {
          "output_type": "execute_result",
          "data": {
            "text/plain": [
              "(tensor([1., 2., 3., 4., 5., 6., 7.]), device(type='cpu'))"
            ]
          },
          "metadata": {},
          "execution_count": 6
        }
      ]
    },
    {
      "cell_type": "code",
      "source": [
        "#move tensor to gpu (if available)\n",
        "tensorGpu = tensor.to(device) #device earlier setup as cuda if available\n",
        "tensorGpu\n",
        "#:0 index of GPU as only 1 so index 0"
      ],
      "metadata": {
        "colab": {
          "base_uri": "https://localhost:8080/"
        },
        "id": "cN68ayeN1-t8",
        "outputId": "529e1439-9313-4379-f740-d7746bb3484b"
      },
      "execution_count": 10,
      "outputs": [
        {
          "output_type": "execute_result",
          "data": {
            "text/plain": [
              "tensor([1., 2., 3., 4., 5., 6., 7.], device='cuda:0')"
            ]
          },
          "metadata": {},
          "execution_count": 10
        }
      ]
    },
    {
      "cell_type": "code",
      "source": [
        "# Moving tensors to CPU (if tensor is on GPU can't transform to numpy)\n",
        "tensorGpu.numpy()"
      ],
      "metadata": {
        "colab": {
          "base_uri": "https://localhost:8080/",
          "height": 197
        },
        "id": "sqGhc9qx2GP8",
        "outputId": "78117bd0-9d32-4db8-e5c4-8e002c1eb076"
      },
      "execution_count": 11,
      "outputs": [
        {
          "output_type": "error",
          "ename": "TypeError",
          "evalue": "ignored",
          "traceback": [
            "\u001b[0;31m---------------------------------------------------------------------------\u001b[0m",
            "\u001b[0;31mTypeError\u001b[0m                                 Traceback (most recent call last)",
            "\u001b[0;32m<ipython-input-11-927acc23a1b4>\u001b[0m in \u001b[0;36m<cell line: 2>\u001b[0;34m()\u001b[0m\n\u001b[1;32m      1\u001b[0m \u001b[0;31m# Moving tensors to CPU (if tensor is on GPU can't transform to numpy)\u001b[0m\u001b[0;34m\u001b[0m\u001b[0;34m\u001b[0m\u001b[0m\n\u001b[0;32m----> 2\u001b[0;31m \u001b[0mtensorGpu\u001b[0m\u001b[0;34m.\u001b[0m\u001b[0mnumpy\u001b[0m\u001b[0;34m(\u001b[0m\u001b[0;34m)\u001b[0m\u001b[0;34m\u001b[0m\u001b[0;34m\u001b[0m\u001b[0m\n\u001b[0m",
            "\u001b[0;31mTypeError\u001b[0m: can't convert cuda:0 device type tensor to numpy. Use Tensor.cpu() to copy the tensor to host memory first."
          ]
        }
      ]
    },
    {
      "cell_type": "code",
      "source": [
        "tensorCPU = tensorGpu.cpu().numpy()\n",
        "tensorCPU"
      ],
      "metadata": {
        "colab": {
          "base_uri": "https://localhost:8080/"
        },
        "id": "gvynl72g4Nfe",
        "outputId": "111547e2-e649-420a-c3ba-e2eb313c3c38"
      },
      "execution_count": 13,
      "outputs": [
        {
          "output_type": "execute_result",
          "data": {
            "text/plain": [
              "array([1., 2., 3., 4., 5., 6., 7.], dtype=float32)"
            ]
          },
          "metadata": {},
          "execution_count": 13
        }
      ]
    }
  ]
}