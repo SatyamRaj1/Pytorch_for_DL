{
  "nbformat": 4,
  "nbformat_minor": 0,
  "metadata": {
    "colab": {
      "provenance": [],
      "authorship_tag": "ABX9TyPpkB0pLxBcFTTLINB5hGSW",
      "include_colab_link": true
    },
    "kernelspec": {
      "name": "python3",
      "display_name": "Python 3"
    },
    "language_info": {
      "name": "python"
    }
  },
  "cells": [
    {
      "cell_type": "markdown",
      "metadata": {
        "id": "view-in-github",
        "colab_type": "text"
      },
      "source": [
        "<a href=\"https://colab.research.google.com/github/SatyamRaj1/Pytorch_for_DL/blob/main/Pytorch_Workflow.ipynb\" target=\"_parent\"><img src=\"https://colab.research.google.com/assets/colab-badge.svg\" alt=\"Open In Colab\"/></a>"
      ]
    },
    {
      "cell_type": "code",
      "execution_count": 1,
      "metadata": {
        "id": "x0oW8zCpI46_"
      },
      "outputs": [],
      "source": [
        "import torch\n",
        "from torch import nn # nn are the basic pytorch building blocks for graphs(computation graph)/neural networks\n",
        "import matplotlib.pyplot as plt"
      ]
    },
    {
      "cell_type": "markdown",
      "source": [
        "# Data Preparation and Loading\n",
        "* convert data into numerical representation"
      ],
      "metadata": {
        "id": "VOjv1vL_LTsw"
      }
    },
    {
      "cell_type": "markdown",
      "source": [
        "### Linear Regression"
      ],
      "metadata": {
        "id": "1I9kTv1zLjjZ"
      }
    },
    {
      "cell_type": "code",
      "source": [
        "#\"known parameters\"\n",
        "weight = 0.7\n",
        "bias = 0.3\n",
        "\n",
        "#create data\n",
        "start = 1\n",
        "end = 3\n",
        "step = 0.039\n",
        "X = torch.arange(start, end, step).unsqueeze(dim = 1)\n",
        "Y = weight*X + bias\n",
        "X[:10], Y[:10], len(X), len(Y)"
      ],
      "metadata": {
        "colab": {
          "base_uri": "https://localhost:8080/"
        },
        "id": "PWF9S6uQM8a8",
        "outputId": "91dd6252-e3b0-4d6f-c1c2-c8dcd5284963"
      },
      "execution_count": 2,
      "outputs": [
        {
          "output_type": "execute_result",
          "data": {
            "text/plain": [
              "(tensor([[1.0000],\n",
              "         [1.0390],\n",
              "         [1.0780],\n",
              "         [1.1170],\n",
              "         [1.1560],\n",
              "         [1.1950],\n",
              "         [1.2340],\n",
              "         [1.2730],\n",
              "         [1.3120],\n",
              "         [1.3510]]),\n",
              " tensor([[1.0000],\n",
              "         [1.0273],\n",
              "         [1.0546],\n",
              "         [1.0819],\n",
              "         [1.1092],\n",
              "         [1.1365],\n",
              "         [1.1638],\n",
              "         [1.1911],\n",
              "         [1.2184],\n",
              "         [1.2457]]),\n",
              " 52,\n",
              " 52)"
            ]
          },
          "metadata": {},
          "execution_count": 2
        }
      ]
    },
    {
      "cell_type": "markdown",
      "source": [
        "### Splitting Data into Test, Train and Validation\n",
        "* Train - course material (model learn Patterns) (60-80%)\n",
        "* Val - practice exams (Tune model patterns) (not always required) (10-20%)\n",
        "* Test - final Exam (See if the model is ready for real world) (10-20%)\n",
        "\n",
        "Note: Use Scikit learn test train split as it provide randomness too"
      ],
      "metadata": {
        "id": "eigvrouoNLFz"
      }
    },
    {
      "cell_type": "code",
      "source": [
        "train_split = int(0.8 * len(X))\n",
        "X_train, Y_train = X[:train_split], Y[:train_split]\n",
        "X_test, Y_test = X[train_split:], Y[train_split:]\n",
        "len(X_train), len(Y_train), len(X_test), len(Y_test)"
      ],
      "metadata": {
        "colab": {
          "base_uri": "https://localhost:8080/"
        },
        "id": "r0ZX_G01Oz8w",
        "outputId": "9b6ba255-6083-41a5-9eff-fbff9cfce4c6"
      },
      "execution_count": 3,
      "outputs": [
        {
          "output_type": "execute_result",
          "data": {
            "text/plain": [
              "(41, 41, 11, 11)"
            ]
          },
          "metadata": {},
          "execution_count": 3
        }
      ]
    },
    {
      "cell_type": "markdown",
      "source": [
        "### Visualising Data\n"
      ],
      "metadata": {
        "id": "Ymf-FlqZSS-b"
      }
    },
    {
      "cell_type": "code",
      "source": [
        "def plot_predictions(train_data = X_train, train_labels = Y_train, test_data = X_test, test_labels = Y_test, predictions = None):\n",
        "\n",
        "  #plot train, test data and compare predictions\n",
        "  plt.figure(figsize = (10, 7))\n",
        "\n",
        "  #plot training data in blue\n",
        "  plt.scatter(train_data, train_labels, c = 'b', s = 4, label = \"Training Data\") # c = color, s = size\n",
        "\n",
        "  #Plot testing data in Red\n",
        "  plt.scatter(test_data, test_labels, c = 'r', s = 4, label = \"Testing Data\")\n",
        "\n",
        "  #are there prediction then plot in green color\n",
        "  if predictions is not None:\n",
        "    plt.scatter(test_data, predictions, c = 'g', s = 4, label = \"Predictions\") #so we can compare test and pred data\n",
        "\n",
        "  plt.legend(prop = {\"size\" : 14}) #legend will show labels on matplotlib (which color responds to which label)  #prop - properties"
      ],
      "metadata": {
        "id": "YuWyKGcKTlc6"
      },
      "execution_count": 4,
      "outputs": []
    },
    {
      "cell_type": "code",
      "source": [
        "plot_predictions()"
      ],
      "metadata": {
        "colab": {
          "base_uri": "https://localhost:8080/",
          "height": 599
        },
        "id": "xVqkq9DrV2ed",
        "outputId": "5d0be05e-2100-40da-9aa9-d61b96f42ee4"
      },
      "execution_count": 5,
      "outputs": [
        {
          "output_type": "display_data",
          "data": {
            "text/plain": [
              "<Figure size 1000x700 with 1 Axes>"
            ],
            "image/png": "[encoded data removed]"
          },
          "metadata": {}
        }
      ]
    },
    {
      "cell_type": "markdown",
      "source": [
        "# Build Model\n",
        "\n",
        "* nn.module\n",
        "  * Base class for all neural network modules.\n",
        "  * Your models should also subclass this class.\n",
        "  * building bricks of pytorch model\n",
        "  * Modules can also contain other Modules, allowing to nest them in a tree structure.\n",
        "  * we can stack these modules on top of each other and make complex modules\n"
      ],
      "metadata": {
        "id": "61zj3yLIWgrl"
      }
    },
    {
      "cell_type": "code",
      "source": [
        "# create linear regression class\n",
        "class LinearRegression(nn.Module): #nn.Module is inherited in Linear Regression class\n",
        "  def __init__(self):\n",
        "    super().__init__() #constructor of base class\n",
        "\n",
        "    # Initialise model parameters to be used in various computations\n",
        "    # (these could be different layers from torch. nn, single parameters, hard-coded values or functions)\n",
        "\n",
        "    self.weights = nn.Parameter(torch.randn(1,\n",
        "                                           requires_grad = True, #if the parameter requires gradient. Pytorch will keep track of gradient of these parameters so that it can update them\n",
        "                                           dtype = torch.float)) #Bydefault - require_grad = True, dtype = torch.float\n",
        "    self.bias = nn.Parameter(torch.randn(1,\n",
        "                                        requires_grad = True,\n",
        "                                        dtype = torch.float))\n",
        "\n",
        "  # Forward method to define the computation in the model\n",
        "  # Any subclass of nn.Module needs to override forward () (this defines the forward computation of the montel)\n",
        "  def forward(self, x: torch.Tensor) -> torch.Tensor: # input torch.Tensor ->x and return torch.Tensor\n",
        "    return self.weights*x + self.bias\n",
        "  #if forward is not aligned with init then unimplimented error"
      ],
      "metadata": {
        "id": "OIUM8gv3WdeG"
      },
      "execution_count": 6,
      "outputs": []
    },
    {
      "cell_type": "markdown",
      "source": [
        "# Pytorch Modules\n",
        "* torch.nn -> contains all of the buildings for computationl grephs (a neural network can be considered a computational graph)\n",
        "* torch.nn.Parameter -> what parameters should our model try and learn, often a PyTorch layer from torch.nn will set these for us\n",
        "* torch.nn.Module -> The base class for all neural network modules, if you subclass it, you should overwrite forward()\n",
        "* torch.optim -> contains optimize algorithms, used in gradient descent. optimize parameters\n",
        "* def forward() -> all nn.Module subclasses require to override forward(), defines how forward computation will occur\n",
        "* torchvision -> pytorch computer vision\n",
        "\n",
        "1. Load/Prepare Data -> torchvision.transforms, torch.utils.data.Dataset, torch.utils.data.DataLoader\n",
        "2. Build a Model -> torch.nn, torch.nn.Module, torchvision.models, torch.optim(optimizer),\n",
        "4. Evaluate Model -> torchmetrics\n",
        "5. Improve through experimentaiton -> torch.utils.tensorboard\n",
        "\n",
        "  "
      ],
      "metadata": {
        "id": "TAJNrjI2g5z2"
      }
    },
    {
      "cell_type": "markdown",
      "source": [
        "### Display Parameters\n"
      ],
      "metadata": {
        "id": "a9Lecx-4oZTY"
      }
    },
    {
      "cell_type": "code",
      "source": [
        "#set seed as we are using random values in our model (for parameters)\n",
        "torch.manual_seed(42)\n",
        "\n",
        "# Create an instance/object of class\n",
        "Model0 = LinearRegression()\n",
        "# checking parameter of model\n",
        "# print(Model0)\n",
        "# print(Model0.parameters())\n",
        "list(Model0.parameters())"
      ],
      "metadata": {
        "colab": {
          "base_uri": "https://localhost:8080/"
        },
        "id": "a-miNne8rtUP",
        "outputId": "a8b5bfcf-d5b3-44b9-8cea-ef45150d3a23"
      },
      "execution_count": 7,
      "outputs": [
        {
          "output_type": "execute_result",
          "data": {
            "text/plain": [
              "[Parameter containing:\n",
              " tensor([0.3367], requires_grad=True),\n",
              " Parameter containing:\n",
              " tensor([0.1288], requires_grad=True)]"
            ]
          },
          "metadata": {},
          "execution_count": 7
        }
      ]
    },
    {
      "cell_type": "code",
      "source": [
        "Model0.state_dict()"
      ],
      "metadata": {
        "colab": {
          "base_uri": "https://localhost:8080/"
        },
        "id": "h6WGE-YAuCOd",
        "outputId": "0034c08f-77e0-48ab-928b-d214912aeef6"
      },
      "execution_count": 8,
      "outputs": [
        {
          "output_type": "execute_result",
          "data": {
            "text/plain": [
              "OrderedDict([('weights', tensor([0.3367])), ('bias', tensor([0.1288]))])"
            ]
          },
          "metadata": {},
          "execution_count": 8
        }
      ]
    },
    {
      "cell_type": "markdown",
      "source": [
        "### Making Predictions\n",
        "* using torch. inference_mode ()\n",
        "* To check our model's predictive power, let's see how well it predicts y_test based on x_test.\n",
        "* When we pass data through our model, it's going to run it through the forward() method."
      ],
      "metadata": {
        "id": "aikPUCzBvWj-"
      }
    },
    {
      "cell_type": "code",
      "source": [
        "X_test"
      ],
      "metadata": {
        "id": "i72_BJZ-xGZW",
        "colab": {
          "base_uri": "https://localhost:8080/"
        },
        "outputId": "0ebb0c98-1b48-4a47-9eb0-f76573068c18"
      },
      "execution_count": 9,
      "outputs": [
        {
          "output_type": "execute_result",
          "data": {
            "text/plain": [
              "tensor([[2.5990],\n",
              "        [2.6380],\n",
              "        [2.6770],\n",
              "        [2.7160],\n",
              "        [2.7550],\n",
              "        [2.7940],\n",
              "        [2.8330],\n",
              "        [2.8720],\n",
              "        [2.9110],\n",
              "        [2.9500],\n",
              "        [2.9890]])"
            ]
          },
          "metadata": {},
          "execution_count": 9
        }
      ]
    },
    {
      "cell_type": "markdown",
      "source": [
        "#inference mode\n",
        "* turns off gradient tracking\n",
        "* as we are not doing training but predicting\n",
        "* so python will take care of less data so fast predictions\n",
        "\n",
        "https://twitter.com/PyTorch/status/1437838231505096708?s=20&t=cnKav09iTgwQ-rfri6u7PQ\n",
        "\n",
        "* Equal to `with torch.no_grad():`\n",
        "* inference_mode() is preferred"
      ],
      "metadata": {
        "id": "Kz-ytJ8imSj6"
      }
    },
    {
      "cell_type": "code",
      "source": [
        "with torch.inference_mode():\n",
        "  y_pred = Model0(X_test) #similiar to y_pred = Model0(X_test) (without inference mode)\n",
        "y_pred"
      ],
      "metadata": {
        "colab": {
          "base_uri": "https://localhost:8080/"
        },
        "id": "ns-pR5A3k7Bf",
        "outputId": "95d13456-bfa9-4ecf-ce73-5468f2f387d0"
      },
      "execution_count": 10,
      "outputs": [
        {
          "output_type": "execute_result",
          "data": {
            "text/plain": [
              "tensor([[1.0039],\n",
              "        [1.0170],\n",
              "        [1.0301],\n",
              "        [1.0433],\n",
              "        [1.0564],\n",
              "        [1.0695],\n",
              "        [1.0827],\n",
              "        [1.0958],\n",
              "        [1.1089],\n",
              "        [1.1220],\n",
              "        [1.1352]])"
            ]
          },
          "metadata": {},
          "execution_count": 10
        }
      ]
    },
    {
      "cell_type": "code",
      "source": [
        "y_pred2 = Model0(X_test)\n",
        "y_pred2  #similiar output only extra grad function"
      ],
      "metadata": {
        "colab": {
          "base_uri": "https://localhost:8080/"
        },
        "id": "Ov_3nStblnVf",
        "outputId": "5ac8e6e0-ab04-4a3e-a635-be5bdd413372"
      },
      "execution_count": 13,
      "outputs": [
        {
          "output_type": "execute_result",
          "data": {
            "text/plain": [
              "tensor([[1.0039],\n",
              "        [1.0170],\n",
              "        [1.0301],\n",
              "        [1.0433],\n",
              "        [1.0564],\n",
              "        [1.0695],\n",
              "        [1.0827],\n",
              "        [1.0958],\n",
              "        [1.1089],\n",
              "        [1.1220],\n",
              "        [1.1352]], grad_fn=<AddBackward0>)"
            ]
          },
          "metadata": {},
          "execution_count": 13
        }
      ]
    },
    {
      "cell_type": "code",
      "source": [
        "Y_test"
      ],
      "metadata": {
        "colab": {
          "base_uri": "https://localhost:8080/"
        },
        "id": "vx5zH26tlc3l",
        "outputId": "20498803-ddb6-4a74-a8c5-7bf9f60a6549"
      },
      "execution_count": 11,
      "outputs": [
        {
          "output_type": "execute_result",
          "data": {
            "text/plain": [
              "tensor([[2.1193],\n",
              "        [2.1466],\n",
              "        [2.1739],\n",
              "        [2.2012],\n",
              "        [2.2285],\n",
              "        [2.2558],\n",
              "        [2.2831],\n",
              "        [2.3104],\n",
              "        [2.3377],\n",
              "        [2.3650],\n",
              "        [2.3923]])"
            ]
          },
          "metadata": {},
          "execution_count": 11
        }
      ]
    },
    {
      "cell_type": "code",
      "source": [
        "plot_predictions(predictions = y_pred)"
      ],
      "metadata": {
        "colab": {
          "base_uri": "https://localhost:8080/",
          "height": 599
        },
        "id": "zGsg62OqmWsp",
        "outputId": "e09f9b29-d1f9-4558-c344-3d93bb67e5aa"
      },
      "execution_count": 12,
      "outputs": [
        {
          "output_type": "display_data",
          "data": {
            "text/plain": [
              "<Figure size 1000x700 with 1 Axes>"
            ],
            "image/png": "[encoded data removed]"
          },
          "metadata": {}
        }
      ]
    },
    {
      "cell_type": "markdown",
      "source": [
        "# Train Model\n",
        "\n",
        "### Optimizers and Loss Functions\n",
        "Things we need to train:\n",
        "* Loss function: A function to measure how wrong your model's predictions are to the ideal outputs, lower is better.\n",
        "* Optimizer: Takes into account the loss of a model and adjusts the model's parameters (e.g. weight & bias in our case) to improve the loss\n",
        "function.\n",
        "\n",
        "And specifically for PyTorch, we need:\n",
        "* A training loop\n",
        "* A testing loop\n",
        "\n",
        "Loss Example\n",
        "* we can write our own `MAE_loss = torch.mean(torch.abs (y_pred-y_test))`\n",
        "* or we can use build in function `MAE_loss = torch.nn.L1Loss`\n",
        "\n",
        "Optimizer\n",
        "\n",
        "Inside the optimizer you'll often have to set two parameters:\n",
        "* params -> the model parameters you'd like to optimize, for example params=Model0.parameters()\n",
        "* lr (learning rate) -> the learning rate is a hyperparameter that defines how big/small the optimizer changes the parameters with each step (a small lr results in small changes, a large lr results in large changes)\n",
        "\n",
        "*L1 is not differentiable and L2 is more prone to outliers\n",
        "\n",
        "**Note:** Hyperparameters are value that a ML Eng/Scientist Sets, and parameter is a value that the model sets itself"
      ],
      "metadata": {
        "id": "DhCwQEZdop7G"
      }
    },
    {
      "cell_type": "code",
      "source": [
        "# Set up Loss function\n",
        "loss_fn = nn.L1Loss()\n",
        "\n",
        "#Set up optimizer\n",
        "optimizer = torch.optim.SGD(params = Model0.parameters(), lr = 1e-2) #learning rate = possibly the most important hyperparameter you can set"
      ],
      "metadata": {
        "id": "c8G_4IzAmead",
        "colab": {
          "base_uri": "https://localhost:8080/"
        },
        "outputId": "9096be18-2f27-4b2e-c870-7fa24114631a"
      },
      "execution_count": 14,
      "outputs": [
        {
          "output_type": "execute_result",
          "data": {
            "text/plain": [
              "L1Loss()"
            ]
          },
          "metadata": {},
          "execution_count": 14
        }
      ]
    },
    {
      "cell_type": "markdown",
      "source": [
        "### Training and Testing Loop\n",
        "A couple of things we need in a training loop:\n",
        "0. Loop through the data and do...\n",
        "1. Forward pass (this involves data moving through our model's forward () functions) to make predictions on data - also called forward propagation\n",
        "2. Calculate the loss (compare forward pass predictions to ground truth labels)\n",
        "3. Optimizer zero grad\n",
        "4. Loss backward - move backwards through the network to calculate the gradients of each of the parameters of our model with respect to the loss\n",
        "5. Optimizer step - use the optimizer to adjust our model's parameters to try and improve the loss\n",
        "\n",
        "**Note**: 1, 2 should be in same order and 5 should come after 4 (rest 3, 4, 5 can be in any order)"
      ],
      "metadata": {
        "id": "ptbfUESCu0dC"
      }
    },
    {
      "cell_type": "code",
      "source": [
        "# An epoch is one loop through the data.. (this is a hyperparameter)\n",
        "epochs = 1\n",
        "\n",
        "# 0. Loop through the data\n",
        "for epoch in range(epochs):\n",
        "  # set the model to training mode\n",
        "  Model0.train() # train mode in PyTorch sets all parameters that require gradients to require gradients  #default mode of Model\n",
        "\n",
        "  # 1. Forward pass\n",
        "  y_pred = Model0(X_train)\n",
        "\n",
        "  #2. calculate Loss\n",
        "  loss = loss_fn(y_pred, Y_train) #standard input(pred) first then target\n",
        "\n",
        "  #3. Optimizer zero grad\n",
        "  optimizer.zero_grad()  # so that it doesn't store prev grad (of prev epoch) and we start fresh (stores for improved efficiency (mostly in Adam and ... or maybe in RNN))\n",
        "\n",
        "  #4. Perform BackPropagation on the loss with respect to the parameters of the model\n",
        "  loss.backward()\n",
        "\n",
        "  #5. Step the Optimizer (perform gradient descent)\n",
        "  optimizer.step() # by default how the optimizer changes will acculumate through the loop so... we have to zero them above in step 3 for the next iteration of the loop\n",
        "\n",
        "\n",
        "\n",
        "  # Model0.eval() # turns off gradient tracking"
      ],
      "metadata": {
        "id": "P3mzonaqqoU2"
      },
      "execution_count": null,
      "outputs": []
    }
  ]
}